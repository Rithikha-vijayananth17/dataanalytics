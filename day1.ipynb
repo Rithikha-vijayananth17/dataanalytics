{
  "nbformat": 4,
  "nbformat_minor": 0,
  "metadata": {
    "colab": {
      "provenance": []
    },
    "kernelspec": {
      "name": "python3",
      "display_name": "Python 3"
    },
    "language_info": {
      "name": "python"
    }
  },
  "cells": [
    {
      "cell_type": "code",
      "execution_count": null,
      "metadata": {
        "colab": {
          "base_uri": "https://localhost:8080/"
        },
        "id": "TUFXlfe0oMy_",
        "outputId": "0b6d600d-d1cb-4296-906e-96647afb619c"
      },
      "outputs": [
        {
          "output_type": "stream",
          "name": "stdout",
          "text": [
            "6\n",
            "data\n"
          ]
        }
      ],
      "source": [
        "x = 6\n",
        "y=\"data\"\n",
        "print(x)\n",
        "print(y)"
      ]
    },
    {
      "cell_type": "code",
      "source": [
        "x = 6\n",
        "x=\"watch\"\n",
        "print(x)\n"
      ],
      "metadata": {
        "colab": {
          "base_uri": "https://localhost:8080/"
        },
        "id": "8fDd7r3Bouoy",
        "outputId": "76a42b8f-d2f2-440f-cc2c-5fe46ff0c48a"
      },
      "execution_count": null,
      "outputs": [
        {
          "output_type": "stream",
          "name": "stdout",
          "text": [
            "watch\n"
          ]
        }
      ]
    },
    {
      "cell_type": "code",
      "source": [
        "x = str(\"6+8\")\n",
        "y=int(6)\n",
        "z=float(6)\n",
        "print(x)\n",
        "print(y)\n",
        "print(z)"
      ],
      "metadata": {
        "colab": {
          "base_uri": "https://localhost:8080/"
        },
        "id": "knjgFKRbpHqs",
        "outputId": "9e396f0d-b416-447b-eb83-5fbc20dc6974"
      },
      "execution_count": null,
      "outputs": [
        {
          "output_type": "stream",
          "name": "stdout",
          "text": [
            "6+8\n",
            "6\n",
            "6.0\n"
          ]
        }
      ]
    },
    {
      "cell_type": "code",
      "source": [
        "x = 5.9\n",
        "y = [1,2,3,4,5]\n",
        "z={5:\"ball\",6:\"cat\",7:\"dog\"}\n",
        "print(type(x))\n",
        "print(type(y))\n",
        "print(type(z))"
      ],
      "metadata": {
        "colab": {
          "base_uri": "https://localhost:8080/"
        },
        "id": "unNQA-ZBpwUx",
        "outputId": "57665b36-7f08-46df-b2f0-89c014483c17"
      },
      "execution_count": null,
      "outputs": [
        {
          "output_type": "stream",
          "name": "stdout",
          "text": [
            "<class 'float'>\n",
            "<class 'list'>\n",
            "<class 'dict'>\n"
          ]
        }
      ]
    },
    {
      "cell_type": "code",
      "source": [
        "r = 6\n",
        "R=\"data\"\n",
        "print(r)\n",
        "print(R)\n"
      ],
      "metadata": {
        "id": "gNd0LNCGq7Fh",
        "colab": {
          "base_uri": "https://localhost:8080/"
        },
        "outputId": "c2dce32f-d616-4ca6-8d9a-c763a24acbe9"
      },
      "execution_count": 11,
      "outputs": [
        {
          "output_type": "stream",
          "name": "stdout",
          "text": [
            "6\n",
            "data\n"
          ]
        }
      ]
    },
    {
      "cell_type": "code",
      "source": [
        "m,n,c=\"rose\", \"sunflower\",\"lily\"\n",
        "print(m)\n",
        "print(n)\n",
        "print(c)"
      ],
      "metadata": {
        "colab": {
          "base_uri": "https://localhost:8080/"
        },
        "id": "zVUGv7FJsm-o",
        "outputId": "9cf74481-9ff8-4b91-f383-22627317bb3b"
      },
      "execution_count": 12,
      "outputs": [
        {
          "output_type": "stream",
          "name": "stdout",
          "text": [
            "rose\n",
            "sunflower\n",
            "lily\n"
          ]
        }
      ]
    },
    {
      "cell_type": "code",
      "source": [
        "x=y=z=a=b=\"rose\"\n",
        "print(x)\n",
        "print(y)\n",
        "print(z)\n",
        "print(a)\n",
        "print(b)"
      ],
      "metadata": {
        "colab": {
          "base_uri": "https://localhost:8080/"
        },
        "id": "B5asLbAptRZU",
        "outputId": "2384352f-fd8d-49c9-b9fa-f6904a6069fd"
      },
      "execution_count": 14,
      "outputs": [
        {
          "output_type": "stream",
          "name": "stdout",
          "text": [
            "rose\n",
            "rose\n",
            "rose\n",
            "rose\n",
            "rose\n"
          ]
        }
      ]
    },
    {
      "cell_type": "code",
      "source": [
        "veg=[\"carrot\",\"onion\",\"tomato\",\"beans\"]\n",
        "a,b,c,d=veg\n",
        "print(a)\n",
        "print(b)\n",
        "print(c)\n",
        "print(d)"
      ],
      "metadata": {
        "colab": {
          "base_uri": "https://localhost:8080/"
        },
        "id": "gMHjT_CFt5Kr",
        "outputId": "da3055ef-ccd6-481d-84a9-bd71e6da40f9"
      },
      "execution_count": 15,
      "outputs": [
        {
          "output_type": "stream",
          "name": "stdout",
          "text": [
            "carrot\n",
            "onion\n",
            "tomato\n",
            "beans\n"
          ]
        }
      ]
    },
    {
      "cell_type": "markdown",
      "source": [],
      "metadata": {
        "id": "Y767tKuBu9z_"
      }
    },
    {
      "cell_type": "code",
      "source": [
        "a=\"Happy\"\n",
        "b=\"Happy\"\n",
        "c=\"Birthday\"\n",
        "print(a,b,c)"
      ],
      "metadata": {
        "colab": {
          "base_uri": "https://localhost:8080/"
        },
        "id": "3ug1LdB4uuvz",
        "outputId": "fb6e5d0c-8493-4659-b0fc-6faf89e31b9c"
      },
      "execution_count": 16,
      "outputs": [
        {
          "output_type": "stream",
          "name": "stdout",
          "text": [
            "Happy Happy Birthday\n"
          ]
        }
      ]
    },
    {
      "cell_type": "code",
      "source": [
        "a=6.9\n",
        "print(type(a))\n",
        "print(a)\n",
        "\n"
      ],
      "metadata": {
        "colab": {
          "base_uri": "https://localhost:8080/"
        },
        "id": "2KV_yFXgvHEZ",
        "outputId": "597aec57-091e-48fc-fb3f-8b4d9b9696a1"
      },
      "execution_count": 17,
      "outputs": [
        {
          "output_type": "stream",
          "name": "stdout",
          "text": [
            "<class 'float'>\n",
            "6.9\n"
          ]
        }
      ]
    },
    {
      "cell_type": "code",
      "source": [
        "x=5\n",
        "y=10.8\n",
        "z= 1j\n",
        "a=\"abi\"\n",
        "print(type(x))\n",
        "print(type(y))\n",
        "print(type(z))\n",
        "print(type(a))"
      ],
      "metadata": {
        "colab": {
          "base_uri": "https://localhost:8080/"
        },
        "id": "fGSeiOdKv2oK",
        "outputId": "5ce10b29-d755-41d5-da70-4b4da631a3b8"
      },
      "execution_count": 34,
      "outputs": [
        {
          "output_type": "stream",
          "name": "stdout",
          "text": [
            "<class 'int'>\n",
            "<class 'float'>\n",
            "<class 'complex'>\n",
            "<class 'str'>\n"
          ]
        }
      ]
    },
    {
      "cell_type": "code",
      "source": [
        "x=1\n",
        "y=35656222554887711\n",
        "z=-3255522\n",
        "print(type(x))\n",
        "print(type(y))\n",
        "print(type(z))"
      ],
      "metadata": {
        "colab": {
          "base_uri": "https://localhost:8080/"
        },
        "id": "nqYotCs0wqqF",
        "outputId": "ee0c9388-7d66-4357-8129-feabc498c4be"
      },
      "execution_count": 39,
      "outputs": [
        {
          "output_type": "stream",
          "name": "stdout",
          "text": [
            "<class 'int'>\n",
            "<class 'int'>\n",
            "<class 'int'>\n"
          ]
        }
      ]
    },
    {
      "cell_type": "code",
      "source": [
        "x=1.106786545866\n",
        "y=45675.0089877\n",
        "z=-35.59\n",
        "a=+1.0\n",
        "print(type(x))\n",
        "print(type(y))\n",
        "print(type(z))\n",
        "print(type(a))"
      ],
      "metadata": {
        "colab": {
          "base_uri": "https://localhost:8080/"
        },
        "id": "qXnNnxGgyG81",
        "outputId": "f9208a11-57e5-4686-d09f-143ad531c15c"
      },
      "execution_count": 42,
      "outputs": [
        {
          "output_type": "stream",
          "name": "stdout",
          "text": [
            "<class 'float'>\n",
            "<class 'float'>\n",
            "<class 'float'>\n",
            "<class 'float'>\n"
          ]
        }
      ]
    },
    {
      "cell_type": "code",
      "source": [
        "x=2-7j\n",
        "w=+7j-4j\n",
        "y=-8j\n",
        "z=+9j\n",
        "q=4j+9j\n",
        "print(type(x))\n",
        "print(type(y))\n",
        "print(type(z))\n",
        "print(type(q))"
      ],
      "metadata": {
        "colab": {
          "base_uri": "https://localhost:8080/"
        },
        "id": "zjenJcJ0ygGJ",
        "outputId": "81247d07-dc7f-44c6-f9aa-a0e54aa465a3"
      },
      "execution_count": 48,
      "outputs": [
        {
          "output_type": "stream",
          "name": "stdout",
          "text": [
            "<class 'complex'>\n",
            "<class 'complex'>\n",
            "<class 'complex'>\n",
            "<class 'complex'>\n"
          ]
        }
      ]
    },
    {
      "cell_type": "code",
      "source": [
        "x=9\n",
        "y=65.789\n",
        "z=8+6j\n",
        "a=float(x)\n",
        "b=int(y)\n",
        "c=complex(y)\n",
        "print(a)\n",
        "print(b)\n",
        "print(c)"
      ],
      "metadata": {
        "colab": {
          "base_uri": "https://localhost:8080/"
        },
        "id": "1ZNlaNLhz3cn",
        "outputId": "a010e616-f99e-4cb2-8558-2044efa98b7b"
      },
      "execution_count": 51,
      "outputs": [
        {
          "output_type": "stream",
          "name": "stdout",
          "text": [
            "9.0\n",
            "65\n",
            "(65.789+0j)\n"
          ]
        }
      ]
    },
    {
      "cell_type": "code",
      "source": [],
      "metadata": {
        "id": "_bTxP20Y1Xmt"
      },
      "execution_count": null,
      "outputs": []
    },
    {
      "cell_type": "code",
      "source": [
        "x=int(1)\n",
        "y=int(2.8)\n",
        "z=float(\"3\")\n",
        "a=complex(5.89)\n",
        "print(x)\n",
        "print(y)\n",
        "print(z)\n",
        "print(a)"
      ],
      "metadata": {
        "colab": {
          "base_uri": "https://localhost:8080/"
        },
        "id": "-hKsRZJv1JnV",
        "outputId": "1ac11ef3-b7cc-4d43-9b43-b1975ce6eb00"
      },
      "execution_count": 52,
      "outputs": [
        {
          "output_type": "stream",
          "name": "stdout",
          "text": [
            "1\n",
            "2\n",
            "3.0\n",
            "(5.89+0j)\n"
          ]
        }
      ]
    },
    {
      "cell_type": "code",
      "source": [
        "x=str(\"s17\")\n",
        "y=str(25675565664)\n",
        "z=str(3.0)\n",
        "a=str(+5-7j)\n",
        "print(x)\n",
        "print(y)\n",
        "print(z)\n",
        "print(a)"
      ],
      "metadata": {
        "colab": {
          "base_uri": "https://localhost:8080/"
        },
        "id": "c44uxDoA2c3Z",
        "outputId": "6cfe8fba-136d-4e50-cfc9-f06e8dff41f6"
      },
      "execution_count": 54,
      "outputs": [
        {
          "output_type": "stream",
          "name": "stdout",
          "text": [
            "s17\n",
            "25675565664\n",
            "3.0\n",
            "(5-7j)\n",
            "s17\n",
            "25675565664\n",
            "3.0\n",
            "(5-7j)\n"
          ]
        }
      ]
    },
    {
      "cell_type": "code",
      "source": [
        "a=\"welcome\"\n",
        "print(a)"
      ],
      "metadata": {
        "colab": {
          "base_uri": "https://localhost:8080/"
        },
        "id": "Xdx_GXFh3mmw",
        "outputId": "1f1ef844-4e37-461f-aea1-21b0acce881c"
      },
      "execution_count": 55,
      "outputs": [
        {
          "output_type": "stream",
          "name": "stdout",
          "text": [
            "welcome\n"
          ]
        }
      ]
    },
    {
      "cell_type": "code",
      "source": [
        "r=\"\"\"The next two paragraphs would smoothly and gently move you into a story, seemingly a small story, a light tale, easily accessed, something personal but not self-indulgent or self-absorbed on the writer’s part, just sort of a cheerful nutty everyday story maybe starring an elk or a mink or a child, but then there would suddenly be a sharp sentence where the dagger enters your heart and the essay spins on a dime like a skater, and you are plunged into waaay deeper water, you didn’t see it coming at all, and you actually shiver, your whole body shimmers\"\"\"\n",
        "print(r)"
      ],
      "metadata": {
        "colab": {
          "base_uri": "https://localhost:8080/"
        },
        "id": "r3c7oCWS3xBs",
        "outputId": "8145cc5b-a621-4564-a81b-6673dfacc07b"
      },
      "execution_count": 56,
      "outputs": [
        {
          "output_type": "stream",
          "name": "stdout",
          "text": [
            "The next two paragraphs would smoothly and gently move you into a story, seemingly a small story, a light tale, easily accessed, something personal but not self-indulgent or self-absorbed on the writer’s part, just sort of a cheerful nutty everyday story maybe starring an elk or a mink or a child, but then there would suddenly be a sharp sentence where the dagger enters your heart and the essay spins on a dime like a skater, and you are plunged into waaay deeper water, you didn’t see it coming at all, and you actually shiver, your whole body shimmers\n"
          ]
        }
      ]
    },
    {
      "cell_type": "code",
      "source": [
        "for h in \"apple\":\n",
        "  print(h)"
      ],
      "metadata": {
        "colab": {
          "base_uri": "https://localhost:8080/"
        },
        "id": "DDZWWrlD4ZCZ",
        "outputId": "aa1b8da9-7856-48a5-f5da-775be38605bd"
      },
      "execution_count": 58,
      "outputs": [
        {
          "output_type": "stream",
          "name": "stdout",
          "text": [
            "a\n",
            "p\n",
            "p\n",
            "l\n",
            "e\n"
          ]
        }
      ]
    },
    {
      "cell_type": "code",
      "source": [
        "a=\"python#world!\"\n",
        "print(len(a))"
      ],
      "metadata": {
        "colab": {
          "base_uri": "https://localhost:8080/"
        },
        "id": "JH4_xyNM44jC",
        "outputId": "86d57fd8-58f1-4adf-c62d-043ef43099c9"
      },
      "execution_count": 59,
      "outputs": [
        {
          "output_type": "stream",
          "name": "stdout",
          "text": [
            "13\n"
          ]
        }
      ]
    },
    {
      "cell_type": "code",
      "source": [
        "abi=\"The best things in life are free!\"\n",
        "print(\"free\" in abi)"
      ],
      "metadata": {
        "colab": {
          "base_uri": "https://localhost:8080/"
        },
        "id": "nRP8PVP85Wfp",
        "outputId": "29ad00b1-5d5d-4d01-8285-413cf06660d6"
      },
      "execution_count": 60,
      "outputs": [
        {
          "output_type": "stream",
          "name": "stdout",
          "text": [
            "True\n"
          ]
        }
      ]
    },
    {
      "cell_type": "code",
      "source": [
        "txt=\"The best things in life are free!\"\n",
        "print(\"free\" not in txt)"
      ],
      "metadata": {
        "colab": {
          "base_uri": "https://localhost:8080/"
        },
        "id": "mewhJ91M5d60",
        "outputId": "41395b94-67de-4287-84c5-0ddba65005a7"
      },
      "execution_count": 63,
      "outputs": [
        {
          "output_type": "stream",
          "name": "stdout",
          "text": [
            "False\n"
          ]
        }
      ]
    },
    {
      "cell_type": "code",
      "source": [
        "txt=\"The best things in life are free !\"\n",
        "if\"time\"in txt:\n",
        "  print(\"Yes,'free'is present\")\n",
        "else:\n",
        "  print(\"not present\")"
      ],
      "metadata": {
        "colab": {
          "base_uri": "https://localhost:8080/"
        },
        "id": "8xNbVkzA6AxZ",
        "outputId": "3a37aa18-f368-4fe1-f3ca-d19f32756fdb"
      },
      "execution_count": 67,
      "outputs": [
        {
          "output_type": "stream",
          "name": "stdout",
          "text": [
            "not present\n"
          ]
        }
      ]
    },
    {
      "cell_type": "code",
      "source": [
        "a=b=\"Hello, World!\"\n",
        "print(b[:6])\n",
        "print(b[2:])\n",
        "print(b[-4:-2])\n",
        "print(a.upper())\n",
        "print(a.lower())"
      ],
      "metadata": {
        "colab": {
          "base_uri": "https://localhost:8080/"
        },
        "id": "mBilPa4E7BsC",
        "outputId": "4ce5321b-2047-4467-de03-b98e47b55dcf"
      },
      "execution_count": 69,
      "outputs": [
        {
          "output_type": "stream",
          "name": "stdout",
          "text": [
            "Hello,\n",
            "llo, World!\n",
            "rl\n",
            "HELLO, WORLD!\n",
            "hello, world!\n"
          ]
        }
      ]
    }
  ]
}