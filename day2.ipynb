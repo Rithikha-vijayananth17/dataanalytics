{
  "nbformat": 4,
  "nbformat_minor": 0,
  "metadata": {
    "colab": {
      "provenance": []
    },
    "kernelspec": {
      "name": "python3",
      "display_name": "Python 3"
    },
    "language_info": {
      "name": "python"
    }
  },
  "cells": [
    {
      "cell_type": "code",
      "execution_count": null,
      "metadata": {
        "colab": {
          "base_uri": "https://localhost:8080/"
        },
        "id": "FQInCZlJs5SL",
        "outputId": "f694acdf-1f59-4a81-9611-56a4b27c8dc2"
      },
      "outputs": [
        {
          "output_type": "stream",
          "name": "stdout",
          "text": [
            "Hello,   World!\n",
            "Jello,   World!\n",
            "['Hello', '   World!']\n"
          ]
        }
      ],
      "source": [
        "a=\"Hello,World!\"\n",
        "print(a.strip())\n",
        "print(a.replace(\"H\",\"J\"))\n",
        "print(a.split(\",\"))"
      ]
    },
    {
      "cell_type": "code",
      "source": [
        "a=\"data\"\n",
        "b=\" analytics\"\n",
        "c=a + b\n",
        "print(c)"
      ],
      "metadata": {
        "colab": {
          "base_uri": "https://localhost:8080/"
        },
        "id": "VMBvAv-fu1Pr",
        "outputId": "2efeafc2-e644-45d6-b256-a3d424942012"
      },
      "execution_count": null,
      "outputs": [
        {
          "output_type": "stream",
          "name": "stdout",
          "text": [
            "data analytics\n"
          ]
        }
      ]
    },
    {
      "cell_type": "code",
      "source": [
        "print(50>40)\n",
        "print(10==10)\n",
        "print(10<9)"
      ],
      "metadata": {
        "colab": {
          "base_uri": "https://localhost:8080/"
        },
        "id": "Xm_83aw4vdMO",
        "outputId": "f0e0ae70-bd49-4886-eccb-533457e217d8"
      },
      "execution_count": null,
      "outputs": [
        {
          "output_type": "stream",
          "name": "stdout",
          "text": [
            "True\n",
            "True\n",
            "False\n"
          ]
        }
      ]
    },
    {
      "cell_type": "code",
      "source": [
        "a=200\n",
        "b=300\n",
        "if b>a:\n",
        "  print(\"b is greater than a\")\n",
        "else:\n",
        "  print(\"b is not greater than a\")"
      ],
      "metadata": {
        "colab": {
          "base_uri": "https://localhost:8080/"
        },
        "id": "PwiDYafWvrvd",
        "outputId": "4f6d0ab3-1096-44a5-c03a-8eb8b01d7997"
      },
      "execution_count": null,
      "outputs": [
        {
          "output_type": "stream",
          "name": "stdout",
          "text": [
            "b is greater than a\n"
          ]
        }
      ]
    },
    {
      "cell_type": "code",
      "source": [
        "print(bool(\"data\"))\n",
        "print(bool(15))"
      ],
      "metadata": {
        "colab": {
          "base_uri": "https://localhost:8080/"
        },
        "id": "EWH-gnNLv7_z",
        "outputId": "264ee9e8-1917-4244-b904-e92eacd9ce16"
      },
      "execution_count": null,
      "outputs": [
        {
          "output_type": "stream",
          "name": "stdout",
          "text": [
            "True\n",
            "True\n"
          ]
        }
      ]
    },
    {
      "cell_type": "code",
      "source": [
        "fruits=[\"apple\",\"banana\",\"cherry\"]\n",
        "print(fruits)"
      ],
      "metadata": {
        "id": "y8AEQUXawkzQ",
        "colab": {
          "base_uri": "https://localhost:8080/"
        },
        "outputId": "1d7be828-f89b-4d9d-f6e8-c68744b6260b"
      },
      "execution_count": null,
      "outputs": [
        {
          "output_type": "stream",
          "name": "stdout",
          "text": [
            "['apple', 'banana', 'cherry']\n"
          ]
        }
      ]
    },
    {
      "cell_type": "code",
      "source": [
        "fruit=[\"apple\",\"banana\",\"cherry\"]\n",
        "print(len(fruit))"
      ],
      "metadata": {
        "colab": {
          "base_uri": "https://localhost:8080/"
        },
        "id": "liEYV5A4zHz6",
        "outputId": "5460293e-4764-45f6-97af-f8c3a05aedd8"
      },
      "execution_count": null,
      "outputs": [
        {
          "output_type": "stream",
          "name": "stdout",
          "text": [
            "3\n"
          ]
        }
      ]
    },
    {
      "cell_type": "code",
      "source": [
        "thislist=[\"apple\",\"banana\",\"cherry\"]\n",
        "thislist.append(\"orange\")\n",
        "print(thislist)\n",
        "thislist.insert(1,\"orange\")\n",
        "print(thislist)\n",
        "thislist.remove(\"banana\")\n",
        "print(thislist)\n"
      ],
      "metadata": {
        "colab": {
          "base_uri": "https://localhost:8080/"
        },
        "id": "5Yovqj0a0ayp",
        "outputId": "69fe5b38-1754-4781-e962-fe89bbe7eef3"
      },
      "execution_count": null,
      "outputs": [
        {
          "output_type": "stream",
          "name": "stdout",
          "text": [
            "['apple', 'banana', 'cherry', 'orange']\n",
            "['apple', 'orange', 'banana', 'cherry', 'orange']\n",
            "['apple', 'orange', 'cherry', 'orange']\n"
          ]
        }
      ]
    },
    {
      "cell_type": "code",
      "source": [
        "a=[\"dog\",\"lion\",\"cat\"]\n",
        "for x in a:\n",
        "  print(x)\n",
        "  for i in range(len(a)):\n",
        "    print(a[i])"
      ],
      "metadata": {
        "colab": {
          "base_uri": "https://localhost:8080/"
        },
        "id": "Gb6kb8Sc05Sw",
        "outputId": "11bff76a-0ca7-4de7-c9ee-f3f391c6df64"
      },
      "execution_count": null,
      "outputs": [
        {
          "output_type": "stream",
          "name": "stdout",
          "text": [
            "dog\n",
            "dog\n",
            "lion\n",
            "cat\n",
            "lion\n",
            "dog\n",
            "lion\n",
            "cat\n",
            "cat\n",
            "dog\n",
            "lion\n",
            "cat\n"
          ]
        }
      ]
    },
    {
      "cell_type": "code",
      "source": [
        "a=[\"dog\",\"lion\",\"cat\"]\n",
        "for i in range(len(a)):\n",
        "    print(a[i])"
      ],
      "metadata": {
        "colab": {
          "base_uri": "https://localhost:8080/"
        },
        "id": "fKTPIF5C2aUP",
        "outputId": "2322a27a-3d8a-4c32-d535-56ed633699a4"
      },
      "execution_count": null,
      "outputs": [
        {
          "output_type": "stream",
          "name": "stdout",
          "text": [
            "dog\n",
            "lion\n",
            "cat\n"
          ]
        }
      ]
    },
    {
      "cell_type": "code",
      "source": [
        "a={\"apple\",False,\"banana\",\"cherry\",True,1,0}\n",
        "print(a)\n",
        "b=(\"apple\",\"banana\",\"cherry\")\n",
        "print(b)"
      ],
      "metadata": {
        "colab": {
          "base_uri": "https://localhost:8080/"
        },
        "id": "wzBFO0_J3TnZ",
        "outputId": "14b73756-bf7a-43ed-d017-dbe39582bc1d"
      },
      "execution_count": null,
      "outputs": [
        {
          "output_type": "stream",
          "name": "stdout",
          "text": [
            "{False, True, 'banana', 'cherry', 'apple'}\n",
            "('apple', 'banana', 'cherry')\n"
          ]
        }
      ]
    },
    {
      "cell_type": "code",
      "source": [
        "a=200\n",
        "b=33\n",
        "if b>a:\n",
        "  print(\"b is greater than a\")\n",
        "elif a==b:\n",
        "  print(\"a and b are equal\")\n",
        "else:\n",
        "  print(\"a is greater than b\")"
      ],
      "metadata": {
        "colab": {
          "base_uri": "https://localhost:8080/"
        },
        "id": "MEYrWuDJ7Tsd",
        "outputId": "226db259-fbc8-4fc3-831f-d48952ecab80"
      },
      "execution_count": null,
      "outputs": [
        {
          "output_type": "stream",
          "name": "stdout",
          "text": [
            "a is greater than b\n"
          ]
        }
      ]
    },
    {
      "cell_type": "code",
      "source": [
        "a=200\n",
        "b=33\n",
        "if b>a:\n",
        "  print(\"b is greater than a\")\n",
        "else:\n",
        "  print(\"b is not greater than a\")"
      ],
      "metadata": {
        "colab": {
          "base_uri": "https://localhost:8080/"
        },
        "id": "Z_lbbuQ_9Jw4",
        "outputId": "ec1785b7-7772-41d9-8c0f-9411602fd40f"
      },
      "execution_count": null,
      "outputs": [
        {
          "output_type": "stream",
          "name": "stdout",
          "text": [
            "b is not greater than a\n"
          ]
        }
      ]
    },
    {
      "cell_type": "code",
      "source": [
        "i=1\n",
        "while i<6:\n",
        "  print(i)\n",
        "  i+=1\n"
      ],
      "metadata": {
        "id": "ZTjuRCKhCVmz",
        "outputId": "0c1ac52f-00fc-4a18-d7d2-cc8f21644f25",
        "colab": {
          "base_uri": "https://localhost:8080/"
        }
      },
      "execution_count": 33,
      "outputs": [
        {
          "output_type": "stream",
          "name": "stdout",
          "text": [
            "1\n",
            "2\n",
            "3\n",
            "4\n",
            "5\n"
          ]
        }
      ]
    },
    {
      "cell_type": "code",
      "source": [
        "i=1\n",
        "while i<6:\n",
        "  print(i)\n",
        "  if i==5:\n",
        "    break\n",
        "  i+=1"
      ],
      "metadata": {
        "id": "XV0pXXMUC1vl",
        "outputId": "b5f31053-8f6e-4377-8b69-7b473d150ffd",
        "colab": {
          "base_uri": "https://localhost:8080/"
        }
      },
      "execution_count": 34,
      "outputs": [
        {
          "output_type": "stream",
          "name": "stdout",
          "text": [
            "1\n",
            "2\n",
            "3\n",
            "4\n",
            "5\n"
          ]
        }
      ]
    },
    {
      "cell_type": "code",
      "source": [
        "i=0\n",
        "while i<6:\n",
        "    i+=1\n",
        "    if i==3:\n",
        "      continue\n",
        "    print(i)"
      ],
      "metadata": {
        "id": "9OcsRGXQDCSW",
        "outputId": "2e15b535-6f5a-4887-da0d-66d1567510e1",
        "colab": {
          "base_uri": "https://localhost:8080/"
        }
      },
      "execution_count": 35,
      "outputs": [
        {
          "output_type": "stream",
          "name": "stdout",
          "text": [
            "1\n",
            "2\n",
            "4\n",
            "5\n",
            "6\n"
          ]
        }
      ]
    }
  ]
}