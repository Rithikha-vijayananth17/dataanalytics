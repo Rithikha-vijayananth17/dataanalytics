{
  "nbformat": 4,
  "nbformat_minor": 0,
  "metadata": {
    "colab": {
      "provenance": []
    },
    "kernelspec": {
      "name": "python3",
      "display_name": "Python 3"
    },
    "language_info": {
      "name": "python"
    }
  },
  "cells": [
    {
      "cell_type": "code",
      "execution_count": null,
      "metadata": {
        "colab": {
          "base_uri": "https://localhost:8080/"
        },
        "id": "ir6D5Awy0VD4",
        "outputId": "f954b0e7-0ba6-4beb-ab4f-a4211d8fc9ca"
      },
      "outputs": [
        {
          "output_type": "stream",
          "name": "stdout",
          "text": [
            "enter the year=2029\n",
            "2029 is not a leap year\n"
          ]
        }
      ],
      "source": [
        "a=int(input(\"enter the year=\"))\n",
        "if(a%4==0):\n",
        "  print(a,\"is a leap year\")\n",
        "else:\n",
        "  print(a,\"is not a leap year\")"
      ]
    },
    {
      "cell_type": "code",
      "source": [
        "b=int(input(\"Enter the age=\"))\n",
        "if(b>=18):\n",
        "  print(\"you are eligible to vote\")"
      ],
      "metadata": {
        "colab": {
          "base_uri": "https://localhost:8080/"
        },
        "id": "gdmeQFHN1eUY",
        "outputId": "a8fb5903-5a28-48a4-8be0-425eb7cc21fb"
      },
      "execution_count": null,
      "outputs": [
        {
          "output_type": "stream",
          "name": "stdout",
          "text": [
            "Enter the age=19\n",
            "you are eligible to vote\n"
          ]
        }
      ]
    },
    {
      "cell_type": "code",
      "source": [
        "for i in range(1,20,2):\n",
        "  print(i)"
      ],
      "metadata": {
        "colab": {
          "base_uri": "https://localhost:8080/"
        },
        "id": "S1tfQRaH107K",
        "outputId": "9fbd402f-4281-468c-fb28-ceaaf423e74b"
      },
      "execution_count": null,
      "outputs": [
        {
          "output_type": "stream",
          "name": "stdout",
          "text": [
            "1\n",
            "3\n",
            "5\n",
            "7\n",
            "9\n",
            "11\n",
            "13\n",
            "15\n",
            "17\n",
            "19\n"
          ]
        }
      ]
    },
    {
      "cell_type": "code",
      "source": [
        "a=int(input(\"enter the a value=\"))\n",
        "if(a<0):\n",
        "  print(a,\"is negative number\")\n",
        "elif(a>0):\n",
        "  print(a, \"is positive number\")\n",
        "else:\n",
        "  print(\"zero\")"
      ],
      "metadata": {
        "colab": {
          "base_uri": "https://localhost:8080/"
        },
        "id": "lLEL0Joq2oR-",
        "outputId": "812a2283-938a-4906-8924-9d06186095ec"
      },
      "execution_count": null,
      "outputs": [
        {
          "output_type": "stream",
          "name": "stdout",
          "text": [
            "enter the a value=-9\n",
            "-9 is negative number\n"
          ]
        }
      ]
    },
    {
      "cell_type": "code",
      "source": [
        "i=1\n",
        "while i<=10:\n",
        "  print(i)\n",
        "  i+=1"
      ],
      "metadata": {
        "colab": {
          "base_uri": "https://localhost:8080/"
        },
        "id": "EsfKYrYw5mjq",
        "outputId": "a98b5b5a-3f6d-4045-9863-d55f8202da3a"
      },
      "execution_count": null,
      "outputs": [
        {
          "output_type": "stream",
          "name": "stdout",
          "text": [
            "1\n",
            "2\n",
            "3\n",
            "4\n",
            "5\n",
            "6\n",
            "7\n",
            "8\n",
            "9\n",
            "10\n"
          ]
        }
      ]
    },
    {
      "cell_type": "code",
      "source": [
        "a=['a0','b0','c0','d0']\n",
        "b=input(\"enter the value=\")\n",
        "if b in a:\n",
        "  print(\"exists\")\n",
        "else:\n",
        "  print(\"invalid\")\n"
      ],
      "metadata": {
        "colab": {
          "base_uri": "https://localhost:8080/"
        },
        "id": "SSjzCvWq56de",
        "outputId": "318584f8-b0ff-43e9-c244-bd9d2296a4ff"
      },
      "execution_count": null,
      "outputs": [
        {
          "output_type": "stream",
          "name": "stdout",
          "text": [
            "enter the value=a0\n",
            "exists\n"
          ]
        }
      ]
    },
    {
      "cell_type": "code",
      "source": [
        "for i in range(1,15):\n",
        "  if i<2 & i<6:\n",
        "    continue\n",
        "  print(i)\n"
      ],
      "metadata": {
        "colab": {
          "base_uri": "https://localhost:8080/"
        },
        "id": "n0GGNa1M_RJX",
        "outputId": "e1e9c803-0889-4246-ee7e-7bb03e90aced"
      },
      "execution_count": null,
      "outputs": [
        {
          "output_type": "stream",
          "name": "stdout",
          "text": [
            "1\n",
            "2\n",
            "3\n",
            "4\n",
            "5\n",
            "6\n",
            "7\n",
            "8\n",
            "9\n",
            "10\n",
            "11\n",
            "12\n",
            "13\n",
            "14\n"
          ]
        }
      ]
    }
  ]
}